{
 "cells": [
  {
   "cell_type": "code",
   "execution_count": 195,
   "metadata": {},
   "outputs": [
    {
     "data": {
      "text/plain": [
       "{'divide': 'ignore', 'over': 'warn', 'under': 'ignore', 'invalid': 'ignore'}"
      ]
     },
     "execution_count": 195,
     "metadata": {},
     "output_type": "execute_result"
    }
   ],
   "source": [
    "from sklearn import preprocessing\n",
    "import numpy as np\n",
    "import pandas as pd\n",
    "from sklearn.preprocessing import Imputer\n",
    "from sklearn.dummy import DummyClassifier\n",
    "from sklearn.preprocessing import MinMaxScaler\n",
    "from sklearn.preprocessing import StandardScaler\n",
    "from sklearn.preprocessing import LabelEncoder\n",
    "from sklearn.model_selection import train_test_split\n",
    "np.seterr(divide='ignore', invalid='ignore')"
   ]
  },
  {
   "cell_type": "code",
   "execution_count": 237,
   "metadata": {},
   "outputs": [],
   "source": [
    "#preprocess funcs\n",
    "\n",
    "def preprocess(filename): #use this for wine,somerville,lymphography ds\n",
    "    df = pd.read_csv(filename)\n",
    "    X, y = df.iloc[:,1:].values, df.iloc[:,0].values\n",
    "    X_train, X_test, y_train, y_test = train_test_split(X, y, test_size = 0.1, random_state = None)\n",
    "    mms = MinMaxScaler()\n",
    "    X_train_norm = mms.fit_transform(X_train)\n",
    "    X_test_norm = mms.transform(X_test)\n",
    "    return X_train_norm, X_test_norm, y_train, y_test\n",
    "\n",
    "# def preprocess_wdbc(filename): #use this for wdbc ds\n",
    "#     df = pd.read_csv(filename, header = None , index_col=None)\n",
    "#     df = df.replace(to_replace=\"M\", value = 1)\n",
    "#     df = df.replace(to_replace=\"B\", value = 2)\n",
    "#     X, y = df.iloc[:,1:].values, df.iloc[:,1].values\n",
    "#     X_train, X_test, y_train, y_test = train_test_split(X, y, test_size = 0.05, random_state = 100)\n",
    "#     mms = MinMaxScaler()\n",
    "#     X_train_norm = mms.fit_transform(X_train)\n",
    "#     X_test_norm = mms.transform(X_test)\n",
    "#     return X_train_norm, X_test_norm, y_train, y_test\n",
    "\n",
    "\n",
    "    \n",
    "# def preprocess_cancer(filename):    #use this for cancer ds\n",
    "#     df = pd.read_csv(filename, header = None , index_col=None)\n",
    "#     df = df.replace(to_replace=\"?\", value = 1)\n",
    "#     X, y = df.iloc[:,1:].values, df.iloc[:,10].values\n",
    "#     X_train, X_test, y_train, y_test = train_test_split(X, y, test_size = 0.01, random_state = 42)\n",
    "#     mms = MinMaxScaler()\n",
    "#     X_train_norm = mms.fit_transform(X_train)\n",
    "#     X_test_norm = mms.transform(X_test)\n",
    "#     return X_train_norm, X_test_norm, y_train, y_test\n",
    "\n",
    "\n",
    "# def preprocess_mushroom(filename):\n",
    "#     df = pd.read_csv(filename, header = None)\n",
    "#     column_labels = [\n",
    "#         'class', 'cap shape', 'cap surface', 'cap color', 'bruised', 'odor',\n",
    "#         'gill attachment', 'gill spacing', 'gill size', 'gill color', \n",
    "#         'stalk shape', 'stalk root', 'stalk surface above ring',\n",
    "#         'stalk surface below ring', 'stalk color above ring',\n",
    "#         'stalk color below ring', 'veil type', 'veil color', 'ring number',\n",
    "#         'ring type', 'spore print color', 'population', 'habitat']    \n",
    "#     df.columns = column_labels\n",
    "#     df = df[df['stalk root'] != '?']\n",
    "#     X = df.loc[:, df.columns != 'class']\n",
    "#     y = df['class'].to_frame()\n",
    "#     X_enc = pd.get_dummies(X)\n",
    "#     scaler = StandardScaler()\n",
    "#     X_std = scaler.fit_transform(X_enc)\n",
    "#     le = LabelEncoder()\n",
    "#     y_enc = le.fit_transform(y.values.ravel())\n",
    "#     X_train, X_test, y_train, y_test = train_test_split(X_std,y_enc,test_size=0.05,stratify=y_enc, random_state = 42)\n",
    "#     return X_train, X_test, y_train, y_test\n",
    "\n",
    "\n",
    "# def preprocess_uni(filename):\n",
    "#     df = pd.read_csv(filename, header = None)\n",
    "#     df = df.drop(['University','State','La','Ls','ABC'],axis=1,inplace=True)\n",
    "#     le = preprocessing.LabelEncoder()\n",
    "#     CollegeType = le.fit_transform(df.Public_Private)\n",
    "#     Area = le.fit_transform(df.Majors)\n",
    "#     St_Fac = le.fit_transform(df.St_Fac)\n",
    "#     Sat_V = le.fit_transform(df.Sat_V)\n",
    "#     Sat_M = le.fit_transform(df.Sat_M)\n",
    "#     F_Aid_percent = le.fit_transform(df.F_Aid_percent)\n",
    "#     percentAdmit = le.fit_transform(df.percentAdmit)\n",
    "#     percentEnroll = le.fit_transform(df.percentEnroll)\n",
    "#     Academics = le.fit_transform(df.Academics)\n",
    "#     #Social = le.fit_transform(df.Social)\n",
    "#     QualityLife = le.fit_transform(df.QualityLife)\n",
    "#     df['Public/Private'] = CollegeType\n",
    "#     df['Majors']=Area\n",
    "#     df['St_Fac']=St_Fac\n",
    "#     df['Sat_V']=Sat_V\n",
    "#     df['Sat_M']=Sat_M\n",
    "#     df['F_Aid_percent']=F_Aid_percent\n",
    "#     df['percentAdmit']=percentAdmit \n",
    "#     df['percentEnroll']=percentEnroll\n",
    "#     df['Academics']=Academics\n",
    "#     #df['Social']=Social\n",
    "#     df['QualityLife']=QualityLife\n",
    "#     df.drop(['Public_Private'],inplace=True,axis=1)\n",
    "#     #Descretizing the 'Social' column (our Target column) based on the bin value = 4\n",
    "#     #used np.digitize for discreitzation. \n",
    "#     #can also use pd.cut or pd.qcut for the same\n",
    "#     df['Social']=np.digitize(x=df['Social'],bins=[4], right=False)\n",
    "#     Class = df['Social']\n",
    "#     features= df.loc[:, df.columns != 'Social']\n",
    "#     X, y = features.values, Class.values\n",
    "#     X_train, X_test, y_train, y_test = train_test_split(X, y, test_size=0.05,random_state=None)\n",
    "#     return X_train, X_test, y_train, y_test"
   ]
  },
  {
   "cell_type": "code",
   "execution_count": 238,
   "metadata": {},
   "outputs": [],
   "source": [
    "# Binding train & preduct func in a class for better impl\n",
    "class NaiveBayes:\n",
    "    \n",
    "    #train func\n",
    "    def train(self, X, y):\n",
    "        n_samples, n_features = X.shape\n",
    "        self._classes = np.unique(y)\n",
    "        n_classes = len(self._classes)\n",
    "\n",
    "        self._mean = np.zeros((n_classes, n_features), dtype=np.float64)\n",
    "        self._var = np.zeros((n_classes, n_features), dtype=np.float64)\n",
    "        self._priors =  np.zeros(n_classes, dtype=np.float64)\n",
    "\n",
    "        for idx, c in enumerate(self._classes):\n",
    "            X_c = X[y==c]\n",
    "            self._mean[idx, :] = X_c.mean(axis=0)\n",
    "            self._var[idx, :] = X_c.var(axis=0)\n",
    "            self._priors[idx] = X_c.shape[0] / float(n_samples)\n",
    "    \n",
    "    #predict func\n",
    "    def predict(self, X):\n",
    "        y_pred = [self._predict(x) for x in X]\n",
    "        return np.array(y_pred)\n",
    "    \n",
    "##########################################################################################################################\n",
    "    #helper functions\n",
    "    \n",
    "    def _predict(self, x):\n",
    "        posteriors = []        \n",
    "        for idx, c in enumerate(self._classes):     #Posterior probability of each class\n",
    "            prior = np.log(self._priors[idx])\n",
    "            posterior = np.sum(np.log(self._pdf(idx, x)))\n",
    "            posterior = prior + posterior\n",
    "            posteriors.append(posterior)   \n",
    "        return self._classes[np.argmax(posteriors)]  #Highest posterior probability class\n",
    "    def _pdf(self, class_idx, x):\n",
    "        mean = self._mean[class_idx]\n",
    "        var = self._var[class_idx]\n",
    "        numerator = np.exp(- (x-mean)**2 / (2 * var))\n",
    "        denominator = np.sqrt(2 * np.pi * var)\n",
    "        return numerator / denominator"
   ]
  },
  {
   "cell_type": "code",
   "execution_count": 239,
   "metadata": {},
   "outputs": [],
   "source": [
    "#evaluate func\n",
    "def evaluate(y_true, y_pred):\n",
    "    accuracy = np.sum(y_true == y_pred) / len(y_true)\n",
    "    return accuracy"
   ]
  },
  {
   "cell_type": "code",
   "execution_count": 240,
   "metadata": {},
   "outputs": [
    {
     "data": {
      "text/plain": [
       "0.9444444444444444"
      ]
     },
     "execution_count": 240,
     "metadata": {},
     "output_type": "execute_result"
    }
   ],
   "source": [
    "#main - func caller\n",
    "X_train_norm, X_test_norm, y_train, y_test = preprocess(\"wine.csv\")\n",
    "NB = NaiveBayes()                               #Call made to class implementing Naivebayes\n",
    "NB.train(X_train_norm, y_train)                 #Call made to train()\n",
    "predictions = NB.predict(X_test_norm)           #Call made to predict()\n",
    "evaluate(y_test, predictions)                   #Call made to evaluate()"
   ]
  },
  {
   "cell_type": "code",
   "execution_count": null,
   "metadata": {},
   "outputs": [],
   "source": []
  },
  {
   "cell_type": "markdown",
   "metadata": {},
   "source": [
    "#QUESTION 2 - Implementing a baseline Model & Comparing with naiveBayes Classifie"
   ]
  },
  {
   "cell_type": "code",
   "execution_count": 250,
   "metadata": {},
   "outputs": [],
   "source": [
    "def Baseline_Model(filename):\n",
    "    df = pd.read_csv(filename)\n",
    "    X, y = df.iloc[:,1:].values, df.iloc[:,10].values #Change value of y wrrt to ds\n",
    "    X_train, X_test, y_train, y_test = train_test_split(X, y, random_state=0)\n",
    "    d = DummyClassifier(strategy='uniform', random_state=1)\n",
    "    d.fit(X_train, y_train)\n",
    "    return d.score(X_test, y_test)"
   ]
  },
  {
   "cell_type": "code",
   "execution_count": 241,
   "metadata": {},
   "outputs": [
    {
     "data": {
      "text/plain": [
       "0.4444444444444444"
      ]
     },
     "execution_count": 241,
     "metadata": {},
     "output_type": "execute_result"
    }
   ],
   "source": [
    "Baseline_Model('somerville.csv')      #0.6172 - NaiveBayes"
   ]
  },
  {
   "cell_type": "code",
   "execution_count": 242,
   "metadata": {},
   "outputs": [
    {
     "data": {
      "text/plain": [
       "0.26666666666666666"
      ]
     },
     "execution_count": 242,
     "metadata": {},
     "output_type": "execute_result"
    }
   ],
   "source": [
    "Baseline_Model('wine.csv')            #0.9720 - NaiveBayes"
   ]
  },
  {
   "cell_type": "code",
   "execution_count": 243,
   "metadata": {},
   "outputs": [
    {
     "data": {
      "text/plain": [
       "0.2702702702702703"
      ]
     },
     "execution_count": 243,
     "metadata": {},
     "output_type": "execute_result"
    }
   ],
   "source": [
    "Baseline_Model('lymphography.csv')    #0.5210 - NaiveBayes"
   ]
  },
  {
   "cell_type": "code",
   "execution_count": 248,
   "metadata": {},
   "outputs": [
    {
     "data": {
      "text/plain": [
       "0.44366197183098594"
      ]
     },
     "execution_count": 248,
     "metadata": {},
     "output_type": "execute_result"
    }
   ],
   "source": [
    "Baseline_Model('wdbc.csv')            #0.3684 - NaiveBayes"
   ]
  },
  {
   "cell_type": "code",
   "execution_count": 251,
   "metadata": {},
   "outputs": [
    {
     "data": {
      "text/plain": [
       "0.49142857142857144"
      ]
     },
     "execution_count": 251,
     "metadata": {},
     "output_type": "execute_result"
    }
   ],
   "source": [
    "Baseline_Model('cancer.csv')         #0.6785 - NaiveBayes"
   ]
  },
  {
   "cell_type": "code",
   "execution_count": null,
   "metadata": {},
   "outputs": [],
   "source": []
  },
  {
   "cell_type": "code",
   "execution_count": null,
   "metadata": {},
   "outputs": [],
   "source": []
  },
  {
   "cell_type": "code",
   "execution_count": null,
   "metadata": {},
   "outputs": [],
   "source": [
    "\n",
    "import pandas as pd\n",
    "df = pd.read_csv(r'C:\\Users\\NIKHIL JHA\\Desktop\\datasets_freelance\\datasets\\somerville.csv')\n",
    "\n",
    "df[['X1','X2','X3','X4','X5','X6']]=np.digitize(x=df[['X1','X2','X3','X4','X5','X6']],bins=[3], right=False)\n",
    "le = preprocessing.LabelEncoder()\n",
    "X1_encod = le.fit_transform(df.X1)\n",
    "X2_encod = le.fit_transform(df.X2)\n",
    "X3_encod = le.fit_transform(df.X3)\n",
    "X4_encod = le.fit_transform(df.X4)\n",
    "X5_encod = le.fit_transform(df.X5)\n",
    "X6_encod = le.fit_transform(df.X6)\n",
    "df['X1_encod'] = X1_encod\n",
    "df['X2_encod'] = X2_encod\n",
    "df['X3_encod'] = X3_encod\n",
    "df['X4_encod'] = X4_encod\n",
    "df['X5_encod'] = X5_encod\n",
    "df['X6_encod'] = X6_encod\n",
    "dummy_fields = ['X1','X2','X3','X4','X5','X6']\n",
    "df = df.drop(dummy_fields,axis=1)\n",
    "target = df['Target']\n",
    "features = df.loc[:, df.columns != 'Target']\n",
    "X, y = df.iloc[:,1:].values, df.iloc[:,0].values\n",
    "X_train, X_test, y_train, y_test = train_test_split(X, y, test_size=0.05)\n",
    "nb = NaiveBayes()\n",
    "nb.fit(X_train, y_train)\n",
    "predictions = nb.predict(X_test)\n",
    "\n",
    "print(\"Naive Bayes classification accuracy\", accuracy(y_test, predictions))\n",
    "\n",
    "\n",
    "\n",
    "\n",
    "\n",
    "\n"
   ]
  },
  {
   "cell_type": "code",
   "execution_count": null,
   "metadata": {},
   "outputs": [],
   "source": []
  },
  {
   "cell_type": "code",
   "execution_count": null,
   "metadata": {},
   "outputs": [],
   "source": [
    "#     for Standardisation\n",
    "#     X_enc = pd.get_dummies(X)\n",
    "#     scaler = StandardScaler()\n",
    "#     X_std = scaler.fit_transform(X_enc)\n",
    "#     le = LabelEncoder()\n",
    "#     y_enc = le.fit_transform(y.values.ravel())\n",
    "#     scaler = StandardScaler()\n",
    "#     X_train_norm = scaler.fit_transform(X_train)\n",
    "#     X_test_norm = scaler.fit_transform(X_test)"
   ]
  }
 ],
 "metadata": {
  "kernelspec": {
   "display_name": "Python 3",
   "language": "python",
   "name": "python3"
  },
  "language_info": {
   "codemirror_mode": {
    "name": "ipython",
    "version": 3
   },
   "file_extension": ".py",
   "mimetype": "text/x-python",
   "name": "python",
   "nbconvert_exporter": "python",
   "pygments_lexer": "ipython3",
   "version": "3.7.3"
  }
 },
 "nbformat": 4,
 "nbformat_minor": 2
}
